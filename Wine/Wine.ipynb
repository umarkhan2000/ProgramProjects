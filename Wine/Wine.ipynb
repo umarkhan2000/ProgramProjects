{
 "cells": [
  {
   "cell_type": "code",
   "execution_count": 12,
   "metadata": {},
   "outputs": [],
   "source": [
    "\n",
    "# Import the necessary packages\n",
    "import pandas as pd \n",
    "import numpy as np \n",
    "import matplotlib.pyplot as plt\n"
   ]
  },
  {
   "cell_type": "code",
   "execution_count": 6,
   "metadata": {},
   "outputs": [
    {
     "data": {
      "text/html": [
       "<div>\n",
       "<style scoped>\n",
       "    .dataframe tbody tr th:only-of-type {\n",
       "        vertical-align: middle;\n",
       "    }\n",
       "\n",
       "    .dataframe tbody tr th {\n",
       "        vertical-align: top;\n",
       "    }\n",
       "\n",
       "    .dataframe thead th {\n",
       "        text-align: right;\n",
       "    }\n",
       "</style>\n",
       "<table border=\"1\" class=\"dataframe\">\n",
       "  <thead>\n",
       "    <tr style=\"text-align: right;\">\n",
       "      <th></th>\n",
       "      <th>Title</th>\n",
       "      <th>Description</th>\n",
       "      <th>Price</th>\n",
       "      <th>Capacity</th>\n",
       "      <th>Grape</th>\n",
       "      <th>Secondary Grape Varieties</th>\n",
       "      <th>Closure</th>\n",
       "      <th>Country</th>\n",
       "      <th>Unit</th>\n",
       "      <th>Characteristics</th>\n",
       "      <th>Per bottle / case / each</th>\n",
       "      <th>Type</th>\n",
       "      <th>ABV</th>\n",
       "      <th>Region</th>\n",
       "      <th>Style</th>\n",
       "      <th>Vintage</th>\n",
       "      <th>Appellation</th>\n",
       "    </tr>\n",
       "  </thead>\n",
       "  <tbody>\n",
       "    <tr>\n",
       "      <th>0</th>\n",
       "      <td>The Guv'nor, Spain</td>\n",
       "      <td>We asked some of our most prized winemakers wo...</td>\n",
       "      <td>£9.99 per bottle</td>\n",
       "      <td>75CL</td>\n",
       "      <td>Tempranillo</td>\n",
       "      <td>NaN</td>\n",
       "      <td>Natural Cork</td>\n",
       "      <td>Spain</td>\n",
       "      <td>10.5</td>\n",
       "      <td>Vanilla, Blackberry, Blackcurrant</td>\n",
       "      <td>per bottle</td>\n",
       "      <td>Red</td>\n",
       "      <td>ABV 14.00%</td>\n",
       "      <td>NaN</td>\n",
       "      <td>Rich &amp; Juicy</td>\n",
       "      <td>NV</td>\n",
       "      <td>NaN</td>\n",
       "    </tr>\n",
       "    <tr>\n",
       "      <th>1</th>\n",
       "      <td>Bread &amp; Butter 'Winemaker's Selection' Chardon...</td>\n",
       "      <td>This really does what it says on the tin. It’s...</td>\n",
       "      <td>£15.99 per bottle</td>\n",
       "      <td>75CL</td>\n",
       "      <td>Chardonnay</td>\n",
       "      <td>NaN</td>\n",
       "      <td>Natural Cork</td>\n",
       "      <td>USA</td>\n",
       "      <td>10.1</td>\n",
       "      <td>Vanilla, Almond, Coconut, Green Apple, Peach, ...</td>\n",
       "      <td>per bottle</td>\n",
       "      <td>White</td>\n",
       "      <td>ABV 13.50%</td>\n",
       "      <td>California</td>\n",
       "      <td>Rich &amp; Toasty</td>\n",
       "      <td>2021</td>\n",
       "      <td>Napa Valley</td>\n",
       "    </tr>\n",
       "    <tr>\n",
       "      <th>2</th>\n",
       "      <td>Oyster Bay Sauvignon Blanc 2022, Marlborough</td>\n",
       "      <td>Oyster Bay has been an award-winning gold-stan...</td>\n",
       "      <td>£12.49 per bottle</td>\n",
       "      <td>75CL</td>\n",
       "      <td>Sauvignon Blanc</td>\n",
       "      <td>NaN</td>\n",
       "      <td>Screwcap</td>\n",
       "      <td>New Zealand</td>\n",
       "      <td>9.8</td>\n",
       "      <td>Tropical Fruit, Gooseberry, Grapefruit, Grass,...</td>\n",
       "      <td>per bottle</td>\n",
       "      <td>White</td>\n",
       "      <td>ABV 13.00%</td>\n",
       "      <td>Marlborough</td>\n",
       "      <td>Crisp &amp; Zesty</td>\n",
       "      <td>2022</td>\n",
       "      <td>NaN</td>\n",
       "    </tr>\n",
       "    <tr>\n",
       "      <th>3</th>\n",
       "      <td>Louis Latour Mâcon-Lugny 2021/22</td>\n",
       "      <td>We’ve sold this wine for thirty years – and fo...</td>\n",
       "      <td>£17.99 per bottle</td>\n",
       "      <td>75CL</td>\n",
       "      <td>Chardonnay</td>\n",
       "      <td>NaN</td>\n",
       "      <td>Natural Cork</td>\n",
       "      <td>France</td>\n",
       "      <td>10.1</td>\n",
       "      <td>Peach, Apricot, Floral, Lemon</td>\n",
       "      <td>per bottle</td>\n",
       "      <td>White</td>\n",
       "      <td>ABV 13.50%</td>\n",
       "      <td>Burgundy</td>\n",
       "      <td>Ripe &amp; Rounded</td>\n",
       "      <td>2022</td>\n",
       "      <td>Macon</td>\n",
       "    </tr>\n",
       "    <tr>\n",
       "      <th>4</th>\n",
       "      <td>Bread &amp; Butter 'Winemaker's Selection' Pinot N...</td>\n",
       "      <td>Bread &amp; Butter is that thing that you can coun...</td>\n",
       "      <td>£15.99 per bottle</td>\n",
       "      <td>75CL</td>\n",
       "      <td>Pinot Noir</td>\n",
       "      <td>NaN</td>\n",
       "      <td>Natural Cork</td>\n",
       "      <td>USA</td>\n",
       "      <td>10.1</td>\n",
       "      <td>Smoke, Black Cherry, Cedar, Raspberry, Red Fruit</td>\n",
       "      <td>per bottle</td>\n",
       "      <td>Red</td>\n",
       "      <td>ABV 13.50%</td>\n",
       "      <td>California</td>\n",
       "      <td>Smooth &amp; Mellow</td>\n",
       "      <td>2021</td>\n",
       "      <td>Napa Valley</td>\n",
       "    </tr>\n",
       "  </tbody>\n",
       "</table>\n",
       "</div>"
      ],
      "text/plain": [
       "                                               Title  \\\n",
       "0                                 The Guv'nor, Spain   \n",
       "1  Bread & Butter 'Winemaker's Selection' Chardon...   \n",
       "2       Oyster Bay Sauvignon Blanc 2022, Marlborough   \n",
       "3                   Louis Latour Mâcon-Lugny 2021/22   \n",
       "4  Bread & Butter 'Winemaker's Selection' Pinot N...   \n",
       "\n",
       "                                         Description              Price  \\\n",
       "0  We asked some of our most prized winemakers wo...   £9.99 per bottle   \n",
       "1  This really does what it says on the tin. It’s...  £15.99 per bottle   \n",
       "2  Oyster Bay has been an award-winning gold-stan...  £12.49 per bottle   \n",
       "3  We’ve sold this wine for thirty years – and fo...  £17.99 per bottle   \n",
       "4  Bread & Butter is that thing that you can coun...  £15.99 per bottle   \n",
       "\n",
       "  Capacity            Grape Secondary Grape Varieties       Closure  \\\n",
       "0     75CL      Tempranillo                       NaN  Natural Cork   \n",
       "1     75CL       Chardonnay                       NaN  Natural Cork   \n",
       "2     75CL  Sauvignon Blanc                       NaN      Screwcap   \n",
       "3     75CL       Chardonnay                       NaN  Natural Cork   \n",
       "4     75CL       Pinot Noir                       NaN  Natural Cork   \n",
       "\n",
       "       Country  Unit                                    Characteristics  \\\n",
       "0        Spain  10.5                  Vanilla, Blackberry, Blackcurrant   \n",
       "1          USA  10.1  Vanilla, Almond, Coconut, Green Apple, Peach, ...   \n",
       "2  New Zealand   9.8  Tropical Fruit, Gooseberry, Grapefruit, Grass,...   \n",
       "3       France  10.1                      Peach, Apricot, Floral, Lemon   \n",
       "4          USA  10.1   Smoke, Black Cherry, Cedar, Raspberry, Red Fruit   \n",
       "\n",
       "  Per bottle / case / each   Type         ABV       Region            Style  \\\n",
       "0               per bottle    Red  ABV 14.00%          NaN     Rich & Juicy   \n",
       "1               per bottle  White  ABV 13.50%   California    Rich & Toasty   \n",
       "2               per bottle  White  ABV 13.00%  Marlborough    Crisp & Zesty   \n",
       "3               per bottle  White  ABV 13.50%     Burgundy   Ripe & Rounded   \n",
       "4               per bottle    Red  ABV 13.50%   California  Smooth & Mellow   \n",
       "\n",
       "  Vintage  Appellation  \n",
       "0      NV          NaN  \n",
       "1    2021  Napa Valley  \n",
       "2    2022          NaN  \n",
       "3    2022        Macon  \n",
       "4    2021  Napa Valley  "
      ]
     },
     "execution_count": 6,
     "metadata": {},
     "output_type": "execute_result"
    }
   ],
   "source": [
    "# import the Wine dataset\n",
    "wine_df = pd.read_csv(r\"C:\\Users\\umara\\Code\\ProgramProjects\\Wine\\WineDataset.csv\")\n",
    "wine_df.head()"
   ]
  },
  {
   "cell_type": "code",
   "execution_count": 7,
   "metadata": {},
   "outputs": [
    {
     "data": {
      "text/plain": [
       "Type\n",
       "White     584\n",
       "Red       569\n",
       "Rosé      124\n",
       "Tawny       4\n",
       "Orange      2\n",
       "Brown       1\n",
       "Mixed       1\n",
       "Name: count, dtype: int64"
      ]
     },
     "execution_count": 7,
     "metadata": {},
     "output_type": "execute_result"
    }
   ],
   "source": [
    "wine_df[\"Type\"].value_counts()"
   ]
  },
  {
   "cell_type": "code",
   "execution_count": 13,
   "metadata": {},
   "outputs": [
    {
     "data": {
      "text/plain": [
       "Capacity\n",
       "75CL      1193\n",
       "37.5CL      23\n",
       "750ML       18\n",
       "1.5LTR      18\n",
       "150CL       11\n",
       "50CL         8\n",
       "Our          6\n",
       "2.25L        4\n",
       "70CL         3\n",
       "500ML        3\n",
       "300CL        1\n",
       "5LITRE       1\n",
       "375ML        1\n",
       "Name: count, dtype: int64"
      ]
     },
     "execution_count": 13,
     "metadata": {},
     "output_type": "execute_result"
    }
   ],
   "source": [
    "wine_df[\"Capacity\"].value_counts()"
   ]
  },
  {
   "cell_type": "code",
   "execution_count": 15,
   "metadata": {},
   "outputs": [
    {
     "data": {
      "text/plain": [
       "<Axes: >"
      ]
     },
     "execution_count": 15,
     "metadata": {},
     "output_type": "execute_result"
    },
    {
     "data": {
      "image/png": "[encoded data removed]",
      "text/plain": [
       "<Figure size 640x480 with 1 Axes>"
      ]
     },
     "metadata": {},
     "output_type": "display_data"
    }
   ],
   "source": [
    "wine_df[\"Type\"].hist()"
   ]
  },
  {
   "cell_type": "code",
   "execution_count": null,
   "metadata": {},
   "outputs": [],
   "source": []
  }
 ],
 "metadata": {
  "kernelspec": {
   "display_name": "Python 3",
   "language": "python",
   "name": "python3"
  },
  "language_info": {
   "codemirror_mode": {
    "name": "ipython",
    "version": 3
   },
   "file_extension": ".py",
   "mimetype": "text/x-python",
   "name": "python",
   "nbconvert_exporter": "python",
   "pygments_lexer": "ipython3",
   "version": "3.11.7"
  }
 },
 "nbformat": 4,
 "nbformat_minor": 2
}
